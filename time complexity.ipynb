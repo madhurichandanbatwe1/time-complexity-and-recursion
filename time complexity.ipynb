{
 "cells": [
  {
   "cell_type": "code",
   "execution_count": 1,
   "id": "ad15f234-9431-4754-821f-1662d61530f5",
   "metadata": {},
   "outputs": [],
   "source": [
    "def quicksort(arr):\n",
    "    if len(arr) <= 1:\n",
    "        return arr\n",
    "    pivot = arr[len(arr) // 2]\n",
    "    left = [x for x in arr if x < pivot]\n",
    "    middle = [x for x in arr if x == pivot]\n",
    "    right = [x for x in arr if x > pivot]\n",
    "    return quicksort(left) + middle + quicksort(right)\n"
   ]
  },
  {
   "cell_type": "markdown",
   "id": "fa9057f4-af3a-4591-a8e9-dc8a8a47beed",
   "metadata": {},
   "source": [
    "O(n log n)"
   ]
  },
  {
   "cell_type": "code",
   "execution_count": 2,
   "id": "4acdbb6b-e264-4243-b535-8e2955415039",
   "metadata": {},
   "outputs": [],
   "source": [
    "def nested_loop_example(matrix):\n",
    "    rows, cols = len(matrix), len(matrix[0])\n",
    "    total = 0\n",
    "    for i in range(rows):\n",
    "        for j in range(cols):\n",
    "            total += matrix[i][j]\n",
    "    return total\n"
   ]
  },
  {
   "cell_type": "markdown",
   "id": "99bb1f2a-9796-4558-9624-ec7cc0d6ed86",
   "metadata": {},
   "source": [
    "The time complexity is O(r×c), where r is the number of rows and c is the number of columns in the matrix. This is because there are nested loops iterating through all elements of the matrix."
   ]
  },
  {
   "cell_type": "code",
   "execution_count": 3,
   "id": "b9f4083c-6cec-4114-82b2-6e1934752b93",
   "metadata": {},
   "outputs": [],
   "source": [
    "def example_function(arr):\n",
    "    result = 0\n",
    "    for element in arr:\n",
    "        result += element\n",
    "    return result\n"
   ]
  },
  {
   "cell_type": "markdown",
   "id": "1f57dfc0-a494-43e4-ab2d-24b3bbd23e59",
   "metadata": {},
   "source": [
    "Time Complexity: The time complexity is 𝑂(𝑛) , where n is the number of elements in the array. This is because the function iterates through each element of the array exactly once."
   ]
  },
  {
   "cell_type": "code",
   "execution_count": 4,
   "id": "3821a88d-5678-41fa-907b-f1c36b07db6f",
   "metadata": {},
   "outputs": [],
   "source": [
    "def longest_increasing_subsequence(nums):\n",
    "    n = len(nums)\n",
    "    lis = [1] * n\n",
    "    for i in range(1, n):\n",
    "        for j in range(0, i):\n",
    "            if nums[i] > nums[j] and lis[i] < lis[j] + 1:\n",
    "                lis[i] = lis[j] + 1\n",
    "    return max(lis)\n"
   ]
  },
  {
   "cell_type": "markdown",
   "id": "632ebfc2-6fed-4011-acf4-709f72af1c45",
   "metadata": {},
   "source": [
    "Time Complexity: The time complexity is 𝑂(𝑛2), where n is the number of elements in the array. This is because there are two nested loops iterating through the array to compute the length of the longest increasing subsequence."
   ]
  },
  {
   "cell_type": "code",
   "execution_count": 5,
   "id": "ba000844-a848-4d44-93d2-0c8ade3c2104",
   "metadata": {},
   "outputs": [],
   "source": [
    "def mysterious_function(arr):\n",
    "    n = len(arr)\n",
    "    result = 0\n",
    "    for i in range(n):\n",
    "        for j in range(i, n):\n",
    "            result += arr[i] * arr[j]\n",
    "    return result\n"
   ]
  },
  {
   "cell_type": "markdown",
   "id": "68871fcb-0fc2-408d-bf96-265d2420ea81",
   "metadata": {},
   "source": [
    "Time Complexity: The time complexity is 𝑂(𝑛2), where n is the number of elements in the array. This is because the function uses nested loops, each of which iterates up to \n",
    "n times."
   ]
  },
  {
   "cell_type": "code",
   "execution_count": 6,
   "id": "c035072f-6a85-42a0-93cb-009b4b57e485",
   "metadata": {},
   "outputs": [],
   "source": [
    "def sum_of_digits(n):\n",
    "    if n == 0:\n",
    "        return 0\n",
    "    return n % 10 + sum_of_digits(n // 10)\n"
   ]
  },
  {
   "cell_type": "markdown",
   "id": "4483d67b-748e-4322-b0a4-c30be9699e3d",
   "metadata": {},
   "source": [
    "Time Complexity: The time complexity is \n",
    "𝑂\n",
    "(\n",
    "log\n",
    "⁡\n",
    "10\n",
    "𝑛\n",
    ")\n",
    ", where \n",
    "𝑛\n",
    "n is the positive integer. Each recursive call reduces the number by a factor of 10, which is equivalent to the number of digits in \n",
    "𝑛\n",
    "n."
   ]
  },
  {
   "cell_type": "code",
   "execution_count": 7,
   "id": "814ecda3-bd07-4966-a071-57326e5ba20b",
   "metadata": {},
   "outputs": [],
   "source": [
    "def fibonacci_series(n):\n",
    "    if n <= 0:\n",
    "        return []\n",
    "    elif n == 1:\n",
    "        return [0]\n",
    "    elif n == 2:\n",
    "        return [0, 1]\n",
    "    else:\n",
    "        series = fibonacci_series(n - 1)\n",
    "        series.append(series[-1] + series[-2])\n",
    "        return series\n"
   ]
  },
  {
   "cell_type": "markdown",
   "id": "2fd55384-e3da-48ad-ab1d-acc85664992a",
   "metadata": {},
   "source": [
    "Time Complexity: The time complexity is \n",
    "𝑂\n",
    "(\n",
    "𝑛\n",
    ")\n",
    ", where \n",
    "𝑛\n",
    "n is the number of Fibonacci numbers to generate. Each recursive call adds a number to the series, so the function makes \n",
    "𝑛\n",
    "n recursive calls."
   ]
  },
  {
   "cell_type": "code",
   "execution_count": 8,
   "id": "c5e04323-a229-49d6-92a2-90af7dc9a700",
   "metadata": {},
   "outputs": [],
   "source": [
    "def subset_sum(arr, target):\n",
    "    if target == 0:\n",
    "        return True\n",
    "    if not arr:\n",
    "        return False\n",
    "    return subset_sum(arr[1:], target) or subset_sum(arr[1:], target - arr[0])\n"
   ]
  },
  {
   "cell_type": "markdown",
   "id": "1403f1fa-cd06-490b-a28c-e6a82b4bc927",
   "metadata": {},
   "source": [
    "Time Complexity: The time complexity is \n",
    "𝑂\n",
    "(\n",
    "2**𝑛\n",
    ")\n",
    ", where \n",
    "𝑛\n",
    "n is the number of elements in the set. This is because the function explores all possible subsets of the set."
   ]
  },
  {
   "cell_type": "code",
   "execution_count": 9,
   "id": "19a48178-f75a-4b14-8391-1184c63f3fdc",
   "metadata": {},
   "outputs": [],
   "source": [
    "def word_break(s, word_dict):\n",
    "    def can_break(start):\n",
    "        if start == len(s):\n",
    "            return True\n",
    "        for end in range(start + 1, len(s) + 1):\n",
    "            if s[start:end] in word_dict and can_break(end):\n",
    "                return True\n",
    "        return False\n",
    "    \n",
    "    return can_break(0)\n"
   ]
  },
  {
   "cell_type": "markdown",
   "id": "9f0e8306-2cd3-4e9f-ae3f-fb1abd288393",
   "metadata": {},
   "source": [
    "Time Complexity: The time complexity is \n",
    "𝑂\n",
    "(\n",
    "2**𝑛\n",
    ")\n",
    ", where \n",
    "𝑛\n",
    "n is the length of the string. Each call explores multiple possibilities of segmenting the string, leading to an exponential number of combinations."
   ]
  },
  {
   "cell_type": "code",
   "execution_count": 10,
   "id": "50804206-2643-48d4-817e-700053ab3687",
   "metadata": {},
   "outputs": [],
   "source": [
    "def n_queens(n):\n",
    "    def solve(row, cols, diags1, diags2):\n",
    "        if row == n:\n",
    "            solutions.append([\"\".join(row) for row in board])\n",
    "            return\n",
    "        for col in range(n):\n",
    "            if col not in cols and (row - col) not in diags1 and (row + col) not in diags2:\n",
    "                board[row][col] = 'Q'\n",
    "                solve(row + 1, cols | {col}, diags1 | {row - col}, diags2 | {row + col})\n",
    "                board[row][col] = '.'\n",
    "    \n",
    "    solutions = []\n",
    "    board = [['.' for _ in range(n)] for _ in range(n)]\n",
    "    solve(0, set(), set(), set())\n",
    "    return solutions\n"
   ]
  },
  {
   "cell_type": "markdown",
   "id": "19a0a7c0-cb09-4ccb-aecc-d05be9743580",
   "metadata": {},
   "source": [
    "Time Complexity: The time complexity is \n",
    "𝑂\n",
    "(\n",
    "𝑛\n",
    "!\n",
    ")\n",
    ", where \n",
    "𝑛\n",
    "n is the size of the chessboard. This is because the function generates and tests all possible arrangements of queens on the board.\n",
    "\n",
    "\n",
    "\n",
    "\n",
    "\n",
    "\n",
    "\n"
   ]
  },
  {
   "cell_type": "code",
   "execution_count": null,
   "id": "4f6a6b77-5ae4-46be-aaa8-015e2745134a",
   "metadata": {},
   "outputs": [],
   "source": []
  }
 ],
 "metadata": {
  "kernelspec": {
   "display_name": "Python 3 (ipykernel)",
   "language": "python",
   "name": "python3"
  },
  "language_info": {
   "codemirror_mode": {
    "name": "ipython",
    "version": 3
   },
   "file_extension": ".py",
   "mimetype": "text/x-python",
   "name": "python",
   "nbconvert_exporter": "python",
   "pygments_lexer": "ipython3",
   "version": "3.11.7"
  }
 },
 "nbformat": 4,
 "nbformat_minor": 5
}
